{
 "cells": [
  {
   "cell_type": "code",
   "execution_count": 1,
   "metadata": {},
   "outputs": [],
   "source": [
    "import numpy as N\n",
    "import pandas as P\n",
    "import seaborn as S\n",
    "import matplotlib.pyplot as plt"
   ]
  },
  {
   "cell_type": "code",
   "execution_count": 2,
   "metadata": {},
   "outputs": [],
   "source": [
    "df = P.read_csv(\"./data/kidney.csv\")"
   ]
  },
  {
   "cell_type": "code",
   "execution_count": 4,
   "metadata": {
    "scrolled": true
   },
   "outputs": [
    {
     "data": {
      "text/html": [
       "<div>\n",
       "<style scoped>\n",
       "    .dataframe tbody tr th:only-of-type {\n",
       "        vertical-align: middle;\n",
       "    }\n",
       "\n",
       "    .dataframe tbody tr th {\n",
       "        vertical-align: top;\n",
       "    }\n",
       "\n",
       "    .dataframe thead th {\n",
       "        text-align: right;\n",
       "    }\n",
       "</style>\n",
       "<table border=\"1\" class=\"dataframe\">\n",
       "  <thead>\n",
       "    <tr style=\"text-align: right;\">\n",
       "      <th></th>\n",
       "      <th>age</th>\n",
       "      <th>bp</th>\n",
       "      <th>sg</th>\n",
       "      <th>al</th>\n",
       "      <th>su</th>\n",
       "      <th>pc</th>\n",
       "      <th>pcc</th>\n",
       "      <th>ba</th>\n",
       "      <th>bgr</th>\n",
       "      <th>bu</th>\n",
       "      <th>...</th>\n",
       "      <th>pcv</th>\n",
       "      <th>wbcc</th>\n",
       "      <th>rbcc</th>\n",
       "      <th>htn</th>\n",
       "      <th>dm</th>\n",
       "      <th>cad</th>\n",
       "      <th>appet</th>\n",
       "      <th>pe</th>\n",
       "      <th>ane</th>\n",
       "      <th>class</th>\n",
       "    </tr>\n",
       "  </thead>\n",
       "  <tbody>\n",
       "    <tr>\n",
       "      <th>0</th>\n",
       "      <td>48</td>\n",
       "      <td>70</td>\n",
       "      <td>1.005</td>\n",
       "      <td>4</td>\n",
       "      <td>0</td>\n",
       "      <td>abnormal</td>\n",
       "      <td>present</td>\n",
       "      <td>notpresent</td>\n",
       "      <td>117</td>\n",
       "      <td>56</td>\n",
       "      <td>...</td>\n",
       "      <td>32</td>\n",
       "      <td>6700</td>\n",
       "      <td>3.9</td>\n",
       "      <td>yes</td>\n",
       "      <td>no</td>\n",
       "      <td>no</td>\n",
       "      <td>poor</td>\n",
       "      <td>yes</td>\n",
       "      <td>yes</td>\n",
       "      <td>ckd</td>\n",
       "    </tr>\n",
       "    <tr>\n",
       "      <th>1</th>\n",
       "      <td>53</td>\n",
       "      <td>90</td>\n",
       "      <td>1.020</td>\n",
       "      <td>2</td>\n",
       "      <td>0</td>\n",
       "      <td>abnormal</td>\n",
       "      <td>present</td>\n",
       "      <td>notpresent</td>\n",
       "      <td>70</td>\n",
       "      <td>107</td>\n",
       "      <td>...</td>\n",
       "      <td>29</td>\n",
       "      <td>12100</td>\n",
       "      <td>3.7</td>\n",
       "      <td>yes</td>\n",
       "      <td>yes</td>\n",
       "      <td>no</td>\n",
       "      <td>poor</td>\n",
       "      <td>no</td>\n",
       "      <td>yes</td>\n",
       "      <td>ckd</td>\n",
       "    </tr>\n",
       "    <tr>\n",
       "      <th>2</th>\n",
       "      <td>63</td>\n",
       "      <td>70</td>\n",
       "      <td>1.010</td>\n",
       "      <td>3</td>\n",
       "      <td>0</td>\n",
       "      <td>abnormal</td>\n",
       "      <td>present</td>\n",
       "      <td>notpresent</td>\n",
       "      <td>380</td>\n",
       "      <td>60</td>\n",
       "      <td>...</td>\n",
       "      <td>32</td>\n",
       "      <td>4500</td>\n",
       "      <td>3.8</td>\n",
       "      <td>yes</td>\n",
       "      <td>yes</td>\n",
       "      <td>no</td>\n",
       "      <td>poor</td>\n",
       "      <td>yes</td>\n",
       "      <td>no</td>\n",
       "      <td>ckd</td>\n",
       "    </tr>\n",
       "    <tr>\n",
       "      <th>3</th>\n",
       "      <td>68</td>\n",
       "      <td>70</td>\n",
       "      <td>1.015</td>\n",
       "      <td>3</td>\n",
       "      <td>1</td>\n",
       "      <td>normal</td>\n",
       "      <td>present</td>\n",
       "      <td>notpresent</td>\n",
       "      <td>208</td>\n",
       "      <td>72</td>\n",
       "      <td>...</td>\n",
       "      <td>28</td>\n",
       "      <td>12200</td>\n",
       "      <td>3.4</td>\n",
       "      <td>yes</td>\n",
       "      <td>yes</td>\n",
       "      <td>yes</td>\n",
       "      <td>poor</td>\n",
       "      <td>yes</td>\n",
       "      <td>no</td>\n",
       "      <td>ckd</td>\n",
       "    </tr>\n",
       "    <tr>\n",
       "      <th>4</th>\n",
       "      <td>68</td>\n",
       "      <td>80</td>\n",
       "      <td>1.010</td>\n",
       "      <td>3</td>\n",
       "      <td>2</td>\n",
       "      <td>abnormal</td>\n",
       "      <td>present</td>\n",
       "      <td>present</td>\n",
       "      <td>157</td>\n",
       "      <td>90</td>\n",
       "      <td>...</td>\n",
       "      <td>16</td>\n",
       "      <td>11000</td>\n",
       "      <td>2.6</td>\n",
       "      <td>yes</td>\n",
       "      <td>yes</td>\n",
       "      <td>yes</td>\n",
       "      <td>poor</td>\n",
       "      <td>yes</td>\n",
       "      <td>no</td>\n",
       "      <td>ckd</td>\n",
       "    </tr>\n",
       "  </tbody>\n",
       "</table>\n",
       "<p>5 rows × 24 columns</p>\n",
       "</div>"
      ],
      "text/plain": [
       "   age  bp     sg  al  su        pc      pcc          ba  bgr   bu  ...  pcv  \\\n",
       "0   48  70  1.005   4   0  abnormal  present  notpresent  117   56  ...   32   \n",
       "1   53  90  1.020   2   0  abnormal  present  notpresent   70  107  ...   29   \n",
       "2   63  70  1.010   3   0  abnormal  present  notpresent  380   60  ...   32   \n",
       "3   68  70  1.015   3   1    normal  present  notpresent  208   72  ...   28   \n",
       "4   68  80  1.010   3   2  abnormal  present     present  157   90  ...   16   \n",
       "\n",
       "    wbcc  rbcc  htn   dm  cad  appet   pe  ane class  \n",
       "0   6700   3.9  yes   no   no   poor  yes  yes   ckd  \n",
       "1  12100   3.7  yes  yes   no   poor   no  yes   ckd  \n",
       "2   4500   3.8  yes  yes   no   poor  yes   no   ckd  \n",
       "3  12200   3.4  yes  yes  yes   poor  yes   no   ckd  \n",
       "4  11000   2.6  yes  yes  yes   poor  yes   no   ckd  \n",
       "\n",
       "[5 rows x 24 columns]"
      ]
     },
     "execution_count": 4,
     "metadata": {},
     "output_type": "execute_result"
    }
   ],
   "source": [
    "df.head()"
   ]
  },
  {
   "cell_type": "code",
   "execution_count": 33,
   "metadata": {
    "scrolled": true
   },
   "outputs": [
    {
     "data": {
      "text/plain": [
       "Index(['age', 'bp', 'sg', 'al', 'su', 'pc', 'pcc', 'ba', 'bgr', 'bu', 'sc',\n",
       "       'sod', 'pot', 'hemo', 'pcv', 'wbcc', 'rbcc', 'htn', 'dm', 'cad',\n",
       "       'appet', 'pe', 'ane', 'class'],\n",
       "      dtype='object')"
      ]
     },
     "execution_count": 33,
     "metadata": {},
     "output_type": "execute_result"
    }
   ],
   "source": [
    "df.columns"
   ]
  },
  {
   "cell_type": "markdown",
   "metadata": {},
   "source": [
    "\t1.Age(numerical)\n",
    "  \t  \tage in years\n",
    " \t2.Blood Pressure(numerical)\n",
    "\t       \tbp in mm/Hg\n",
    " \t3.Specific Gravity(nominal)\n",
    "\t  \tsg - (1.005,1.010,1.015,1.020,1.025)\n",
    " \t4.Albumin(nominal)\n",
    "\t\tal - (0,1,2,3,4,5)\n",
    " \t5.Sugar(nominal)\n",
    "\t\tsu - (0,1,2,3,4,5)\n",
    " \t6.Red Blood Cells(nominal)\n",
    "\t\trbc - (normal,abnormal)\n",
    " \t7.Pus Cell (nominal)\n",
    "\t\tpc - (normal,abnormal)\n",
    " \t8.Pus Cell clumps(nominal)\n",
    "\t\tpcc - (present,notpresent)\n",
    " \t9.Bacteria(nominal)\n",
    "\t\tba  - (present,notpresent)\n",
    " \t10.Blood Glucose Random(numerical)\t\t\n",
    "\t\tbgr in mgs/dl\n",
    " \t11.Blood Urea(numerical)\t\n",
    "\t\tbu in mgs/dl\n",
    " \t12.Serum Creatinine(numerical)\t\n",
    "\t\tsc in mgs/dl\n",
    " \t13.Sodium(numerical)\n",
    "\t\tsod in mEq/L\n",
    " \t14.Potassium(numerical)\t\n",
    "\t\tpot in mEq/L\n",
    " \t15.Hemoglobin(numerical)\n",
    "\t\themo in gms\n",
    " \t16.Packed  Cell Volume(numerical)\n",
    " \t17.White Blood Cell Count(numerical)\n",
    "\t\twc in cells/cumm\n",
    " \t18.Red Blood Cell Count(numerical)\t\n",
    "\t\trc in millions/cmm\n",
    " \t19.Hypertension(nominal)\t\n",
    "\t\thtn - (yes,no)\n",
    " \t20.Diabetes Mellitus(nominal)\t\n",
    "\t\tdm - (yes,no)\n",
    " \t21.Coronary Artery Disease(nominal)\n",
    "\t\tcad - (yes,no)\n",
    " \t22.Appetite(nominal)\t\n",
    "\t\tappet - (good,poor)\n",
    " \t23.Pedal Edema(nominal)\n",
    "\t\tpe - (yes,no)\t\n",
    " \t24.Anemia(nominal)\n",
    "\t\tane - (yes,no)\n",
    " \t25.Class (nominal)\t\t\n",
    "\t\tclass - (ckd,notckd)"
   ]
  },
  {
   "cell_type": "code",
   "execution_count": 35,
   "metadata": {
    "scrolled": true
   },
   "outputs": [
    {
     "name": "stdout",
     "output_type": "stream",
     "text": [
      "<class 'pandas.core.frame.DataFrame'>\n",
      "RangeIndex: 189 entries, 0 to 188\n",
      "Data columns (total 24 columns):\n",
      "age      189 non-null int64\n",
      "bp       189 non-null int64\n",
      "sg       189 non-null float64\n",
      "al       189 non-null int64\n",
      "su       189 non-null int64\n",
      "pc       189 non-null object\n",
      "pcc      189 non-null object\n",
      "ba       189 non-null object\n",
      "bgr      189 non-null int64\n",
      "bu       189 non-null int64\n",
      "sc       189 non-null float64\n",
      "sod      189 non-null int64\n",
      "pot      189 non-null float64\n",
      "hemo     189 non-null float64\n",
      "pcv      189 non-null int64\n",
      "wbcc     189 non-null int64\n",
      "rbcc     189 non-null float64\n",
      "htn      189 non-null object\n",
      "dm       189 non-null object\n",
      "cad      189 non-null object\n",
      "appet    189 non-null object\n",
      "pe       189 non-null object\n",
      "ane      189 non-null object\n",
      "class    189 non-null object\n",
      "dtypes: float64(5), int64(9), object(10)\n",
      "memory usage: 35.6+ KB\n"
     ]
    }
   ],
   "source": [
    "df.info()"
   ]
  },
  {
   "cell_type": "code",
   "execution_count": 7,
   "metadata": {},
   "outputs": [
    {
     "data": {
      "text/html": [
       "<div>\n",
       "<style scoped>\n",
       "    .dataframe tbody tr th:only-of-type {\n",
       "        vertical-align: middle;\n",
       "    }\n",
       "\n",
       "    .dataframe tbody tr th {\n",
       "        vertical-align: top;\n",
       "    }\n",
       "\n",
       "    .dataframe thead th {\n",
       "        text-align: right;\n",
       "    }\n",
       "</style>\n",
       "<table border=\"1\" class=\"dataframe\">\n",
       "  <thead>\n",
       "    <tr style=\"text-align: right;\">\n",
       "      <th></th>\n",
       "      <th>age</th>\n",
       "      <th>bp</th>\n",
       "      <th>sg</th>\n",
       "      <th>al</th>\n",
       "      <th>su</th>\n",
       "      <th>bgr</th>\n",
       "      <th>bu</th>\n",
       "      <th>sc</th>\n",
       "      <th>sod</th>\n",
       "      <th>pot</th>\n",
       "      <th>hemo</th>\n",
       "      <th>pcv</th>\n",
       "      <th>wbcc</th>\n",
       "      <th>rbcc</th>\n",
       "    </tr>\n",
       "  </thead>\n",
       "  <tbody>\n",
       "    <tr>\n",
       "      <th>count</th>\n",
       "      <td>189.000000</td>\n",
       "      <td>189.000000</td>\n",
       "      <td>189.000000</td>\n",
       "      <td>189.000000</td>\n",
       "      <td>189.000000</td>\n",
       "      <td>189.000000</td>\n",
       "      <td>189.000000</td>\n",
       "      <td>189.000000</td>\n",
       "      <td>189.000000</td>\n",
       "      <td>189.000000</td>\n",
       "      <td>189.000000</td>\n",
       "      <td>189.000000</td>\n",
       "      <td>189.000000</td>\n",
       "      <td>189.000000</td>\n",
       "    </tr>\n",
       "    <tr>\n",
       "      <th>mean</th>\n",
       "      <td>51.470899</td>\n",
       "      <td>75.079365</td>\n",
       "      <td>1.019048</td>\n",
       "      <td>0.841270</td>\n",
       "      <td>0.343915</td>\n",
       "      <td>138.941799</td>\n",
       "      <td>53.142857</td>\n",
       "      <td>2.264550</td>\n",
       "      <td>138.629630</td>\n",
       "      <td>4.598413</td>\n",
       "      <td>13.300529</td>\n",
       "      <td>40.634921</td>\n",
       "      <td>8544.444444</td>\n",
       "      <td>4.766667</td>\n",
       "    </tr>\n",
       "    <tr>\n",
       "      <th>std</th>\n",
       "      <td>15.742457</td>\n",
       "      <td>11.514055</td>\n",
       "      <td>0.005639</td>\n",
       "      <td>1.386174</td>\n",
       "      <td>0.952727</td>\n",
       "      <td>75.394013</td>\n",
       "      <td>45.663032</td>\n",
       "      <td>2.969107</td>\n",
       "      <td>7.008382</td>\n",
       "      <td>3.189285</td>\n",
       "      <td>2.848208</td>\n",
       "      <td>9.046514</td>\n",
       "      <td>2978.939075</td>\n",
       "      <td>1.008264</td>\n",
       "    </tr>\n",
       "    <tr>\n",
       "      <th>min</th>\n",
       "      <td>6.000000</td>\n",
       "      <td>50.000000</td>\n",
       "      <td>1.005000</td>\n",
       "      <td>0.000000</td>\n",
       "      <td>0.000000</td>\n",
       "      <td>70.000000</td>\n",
       "      <td>10.000000</td>\n",
       "      <td>0.400000</td>\n",
       "      <td>111.000000</td>\n",
       "      <td>2.500000</td>\n",
       "      <td>3.100000</td>\n",
       "      <td>9.000000</td>\n",
       "      <td>3800.000000</td>\n",
       "      <td>2.100000</td>\n",
       "    </tr>\n",
       "    <tr>\n",
       "      <th>25%</th>\n",
       "      <td>42.000000</td>\n",
       "      <td>70.000000</td>\n",
       "      <td>1.015000</td>\n",
       "      <td>0.000000</td>\n",
       "      <td>0.000000</td>\n",
       "      <td>97.000000</td>\n",
       "      <td>27.000000</td>\n",
       "      <td>0.800000</td>\n",
       "      <td>135.000000</td>\n",
       "      <td>3.800000</td>\n",
       "      <td>11.300000</td>\n",
       "      <td>34.000000</td>\n",
       "      <td>6700.000000</td>\n",
       "      <td>4.000000</td>\n",
       "    </tr>\n",
       "    <tr>\n",
       "      <th>50%</th>\n",
       "      <td>55.000000</td>\n",
       "      <td>80.000000</td>\n",
       "      <td>1.020000</td>\n",
       "      <td>0.000000</td>\n",
       "      <td>0.000000</td>\n",
       "      <td>117.000000</td>\n",
       "      <td>40.000000</td>\n",
       "      <td>1.100000</td>\n",
       "      <td>139.000000</td>\n",
       "      <td>4.500000</td>\n",
       "      <td>13.900000</td>\n",
       "      <td>42.000000</td>\n",
       "      <td>8000.000000</td>\n",
       "      <td>4.800000</td>\n",
       "    </tr>\n",
       "    <tr>\n",
       "      <th>75%</th>\n",
       "      <td>63.000000</td>\n",
       "      <td>80.000000</td>\n",
       "      <td>1.025000</td>\n",
       "      <td>2.000000</td>\n",
       "      <td>0.000000</td>\n",
       "      <td>134.000000</td>\n",
       "      <td>51.000000</td>\n",
       "      <td>2.200000</td>\n",
       "      <td>143.000000</td>\n",
       "      <td>4.900000</td>\n",
       "      <td>15.500000</td>\n",
       "      <td>48.000000</td>\n",
       "      <td>9800.000000</td>\n",
       "      <td>5.500000</td>\n",
       "    </tr>\n",
       "    <tr>\n",
       "      <th>max</th>\n",
       "      <td>90.000000</td>\n",
       "      <td>110.000000</td>\n",
       "      <td>1.025000</td>\n",
       "      <td>4.000000</td>\n",
       "      <td>5.000000</td>\n",
       "      <td>490.000000</td>\n",
       "      <td>309.000000</td>\n",
       "      <td>15.200000</td>\n",
       "      <td>150.000000</td>\n",
       "      <td>47.000000</td>\n",
       "      <td>17.800000</td>\n",
       "      <td>54.000000</td>\n",
       "      <td>26400.000000</td>\n",
       "      <td>8.000000</td>\n",
       "    </tr>\n",
       "  </tbody>\n",
       "</table>\n",
       "</div>"
      ],
      "text/plain": [
       "              age          bp          sg          al          su         bgr  \\\n",
       "count  189.000000  189.000000  189.000000  189.000000  189.000000  189.000000   \n",
       "mean    51.470899   75.079365    1.019048    0.841270    0.343915  138.941799   \n",
       "std     15.742457   11.514055    0.005639    1.386174    0.952727   75.394013   \n",
       "min      6.000000   50.000000    1.005000    0.000000    0.000000   70.000000   \n",
       "25%     42.000000   70.000000    1.015000    0.000000    0.000000   97.000000   \n",
       "50%     55.000000   80.000000    1.020000    0.000000    0.000000  117.000000   \n",
       "75%     63.000000   80.000000    1.025000    2.000000    0.000000  134.000000   \n",
       "max     90.000000  110.000000    1.025000    4.000000    5.000000  490.000000   \n",
       "\n",
       "               bu          sc         sod         pot        hemo         pcv  \\\n",
       "count  189.000000  189.000000  189.000000  189.000000  189.000000  189.000000   \n",
       "mean    53.142857    2.264550  138.629630    4.598413   13.300529   40.634921   \n",
       "std     45.663032    2.969107    7.008382    3.189285    2.848208    9.046514   \n",
       "min     10.000000    0.400000  111.000000    2.500000    3.100000    9.000000   \n",
       "25%     27.000000    0.800000  135.000000    3.800000   11.300000   34.000000   \n",
       "50%     40.000000    1.100000  139.000000    4.500000   13.900000   42.000000   \n",
       "75%     51.000000    2.200000  143.000000    4.900000   15.500000   48.000000   \n",
       "max    309.000000   15.200000  150.000000   47.000000   17.800000   54.000000   \n",
       "\n",
       "               wbcc        rbcc  \n",
       "count    189.000000  189.000000  \n",
       "mean    8544.444444    4.766667  \n",
       "std     2978.939075    1.008264  \n",
       "min     3800.000000    2.100000  \n",
       "25%     6700.000000    4.000000  \n",
       "50%     8000.000000    4.800000  \n",
       "75%     9800.000000    5.500000  \n",
       "max    26400.000000    8.000000  "
      ]
     },
     "execution_count": 7,
     "metadata": {},
     "output_type": "execute_result"
    }
   ],
   "source": [
    "df.describe()"
   ]
  },
  {
   "cell_type": "code",
   "execution_count": 46,
   "metadata": {},
   "outputs": [
    {
     "data": {
      "text/plain": [
       "0.3915343915343915"
      ]
     },
     "execution_count": 46,
     "metadata": {},
     "output_type": "execute_result"
    }
   ],
   "source": [
    "df['class'].loc[df['class']=='ckd'].count()/df['class'].count()"
   ]
  },
  {
   "cell_type": "code",
   "execution_count": 3,
   "metadata": {},
   "outputs": [
    {
     "data": {
      "text/html": [
       "<div>\n",
       "<style scoped>\n",
       "    .dataframe tbody tr th:only-of-type {\n",
       "        vertical-align: middle;\n",
       "    }\n",
       "\n",
       "    .dataframe tbody tr th {\n",
       "        vertical-align: top;\n",
       "    }\n",
       "\n",
       "    .dataframe thead th {\n",
       "        text-align: right;\n",
       "    }\n",
       "</style>\n",
       "<table border=\"1\" class=\"dataframe\">\n",
       "  <thead>\n",
       "    <tr style=\"text-align: right;\">\n",
       "      <th></th>\n",
       "      <th>age</th>\n",
       "      <th>class</th>\n",
       "    </tr>\n",
       "  </thead>\n",
       "  <tbody>\n",
       "    <tr>\n",
       "      <th>0</th>\n",
       "      <td>48</td>\n",
       "      <td>ckd</td>\n",
       "    </tr>\n",
       "    <tr>\n",
       "      <th>1</th>\n",
       "      <td>53</td>\n",
       "      <td>ckd</td>\n",
       "    </tr>\n",
       "    <tr>\n",
       "      <th>2</th>\n",
       "      <td>63</td>\n",
       "      <td>ckd</td>\n",
       "    </tr>\n",
       "    <tr>\n",
       "      <th>3</th>\n",
       "      <td>68</td>\n",
       "      <td>ckd</td>\n",
       "    </tr>\n",
       "    <tr>\n",
       "      <th>4</th>\n",
       "      <td>68</td>\n",
       "      <td>ckd</td>\n",
       "    </tr>\n",
       "    <tr>\n",
       "      <th>74</th>\n",
       "      <td>40</td>\n",
       "      <td>notckd</td>\n",
       "    </tr>\n",
       "    <tr>\n",
       "      <th>75</th>\n",
       "      <td>23</td>\n",
       "      <td>notckd</td>\n",
       "    </tr>\n",
       "    <tr>\n",
       "      <th>76</th>\n",
       "      <td>45</td>\n",
       "      <td>notckd</td>\n",
       "    </tr>\n",
       "    <tr>\n",
       "      <th>77</th>\n",
       "      <td>57</td>\n",
       "      <td>notckd</td>\n",
       "    </tr>\n",
       "    <tr>\n",
       "      <th>78</th>\n",
       "      <td>51</td>\n",
       "      <td>notckd</td>\n",
       "    </tr>\n",
       "  </tbody>\n",
       "</table>\n",
       "</div>"
      ],
      "text/plain": [
       "    age   class\n",
       "0    48     ckd\n",
       "1    53     ckd\n",
       "2    63     ckd\n",
       "3    68     ckd\n",
       "4    68     ckd\n",
       "74   40  notckd\n",
       "75   23  notckd\n",
       "76   45  notckd\n",
       "77   57  notckd\n",
       "78   51  notckd"
      ]
     },
     "execution_count": 3,
     "metadata": {},
     "output_type": "execute_result"
    }
   ],
   "source": [
    "df[['age','class']].groupby(['class']).head()"
   ]
  },
  {
   "cell_type": "code",
   "execution_count": 59,
   "metadata": {},
   "outputs": [
    {
     "data": {
      "text/html": [
       "<div>\n",
       "<style scoped>\n",
       "    .dataframe tbody tr th:only-of-type {\n",
       "        vertical-align: middle;\n",
       "    }\n",
       "\n",
       "    .dataframe tbody tr th {\n",
       "        vertical-align: top;\n",
       "    }\n",
       "\n",
       "    .dataframe thead tr th {\n",
       "        text-align: left;\n",
       "    }\n",
       "\n",
       "    .dataframe thead tr:last-of-type th {\n",
       "        text-align: right;\n",
       "    }\n",
       "</style>\n",
       "<table border=\"1\" class=\"dataframe\">\n",
       "  <thead>\n",
       "    <tr>\n",
       "      <th></th>\n",
       "      <th colspan=\"8\" halign=\"left\">age</th>\n",
       "    </tr>\n",
       "    <tr>\n",
       "      <th></th>\n",
       "      <th>count</th>\n",
       "      <th>mean</th>\n",
       "      <th>std</th>\n",
       "      <th>min</th>\n",
       "      <th>25%</th>\n",
       "      <th>50%</th>\n",
       "      <th>75%</th>\n",
       "      <th>max</th>\n",
       "    </tr>\n",
       "    <tr>\n",
       "      <th>class</th>\n",
       "      <th></th>\n",
       "      <th></th>\n",
       "      <th></th>\n",
       "      <th></th>\n",
       "      <th></th>\n",
       "      <th></th>\n",
       "      <th></th>\n",
       "      <th></th>\n",
       "    </tr>\n",
       "  </thead>\n",
       "  <tbody>\n",
       "    <tr>\n",
       "      <th>ckd</th>\n",
       "      <td>74.0</td>\n",
       "      <td>58.918919</td>\n",
       "      <td>13.444719</td>\n",
       "      <td>6.0</td>\n",
       "      <td>53.25</td>\n",
       "      <td>61.0</td>\n",
       "      <td>66.75</td>\n",
       "      <td>90.0</td>\n",
       "    </tr>\n",
       "    <tr>\n",
       "      <th>notckd</th>\n",
       "      <td>115.0</td>\n",
       "      <td>46.678261</td>\n",
       "      <td>15.289343</td>\n",
       "      <td>12.0</td>\n",
       "      <td>34.50</td>\n",
       "      <td>46.0</td>\n",
       "      <td>58.00</td>\n",
       "      <td>80.0</td>\n",
       "    </tr>\n",
       "  </tbody>\n",
       "</table>\n",
       "</div>"
      ],
      "text/plain": [
       "          age                                                      \n",
       "        count       mean        std   min    25%   50%    75%   max\n",
       "class                                                              \n",
       "ckd      74.0  58.918919  13.444719   6.0  53.25  61.0  66.75  90.0\n",
       "notckd  115.0  46.678261  15.289343  12.0  34.50  46.0  58.00  80.0"
      ]
     },
     "execution_count": 59,
     "metadata": {},
     "output_type": "execute_result"
    }
   ],
   "source": [
    "df[['age','class']].groupby(['class']).describe()"
   ]
  },
  {
   "cell_type": "code",
   "execution_count": 85,
   "metadata": {},
   "outputs": [
    {
     "data": {
      "image/png": "[encoded data removed]",
      "text/plain": [
       "<Figure size 432x288 with 1 Axes>"
      ]
     },
     "metadata": {
      "needs_background": "light"
     },
     "output_type": "display_data"
    }
   ],
   "source": [
    "ax = S.boxplot(x='class', y='age', data=df)\n",
    "# can be done with other numerical values to see the influence over kidney disease\n",
    "# then select the one the more correlated to the class, and eliminate when correlated between them\n",
    "# (keep the most correlated to the class)"
   ]
  },
  {
   "cell_type": "code",
   "execution_count": 64,
   "metadata": {},
   "outputs": [],
   "source": [
    "df['class'] = df['class'].apply(lambda x : int(x==\"ckd\"))"
   ]
  },
  {
   "cell_type": "code",
   "execution_count": 66,
   "metadata": {},
   "outputs": [
    {
     "data": {
      "text/plain": [
       "0    115\n",
       "1     74\n",
       "Name: class, dtype: int64"
      ]
     },
     "execution_count": 66,
     "metadata": {},
     "output_type": "execute_result"
    }
   ],
   "source": [
    "df['class'].value_counts()"
   ]
  },
  {
   "cell_type": "code",
   "execution_count": 84,
   "metadata": {},
   "outputs": [
    {
     "data": {
      "text/plain": [
       "<matplotlib.axes._subplots.AxesSubplot at 0x7f04bf4a4c50>"
      ]
     },
     "execution_count": 84,
     "metadata": {},
     "output_type": "execute_result"
    },
    {
     "data": {
      "image/png": "[encoded data removed]",
      "text/plain": [
       "<Figure size 1440x1080 with 2 Axes>"
      ]
     },
     "metadata": {
      "needs_background": "light"
     },
     "output_type": "display_data"
    }
   ],
   "source": [
    "plt.subplots(figsize=(20,15))\n",
    "S.heatmap(N.abs(df.corr()), cmap=\"YlGnBu\", robust=True, annot=True, linewidths=.5)"
   ]
  },
  {
   "cell_type": "code",
   "execution_count": 101,
   "metadata": {},
   "outputs": [],
   "source": [
    "cat_df = P.DataFrame(P.read_csv(\"./data/kidney.csv\").select_dtypes(include=['object']))"
   ]
  },
  {
   "cell_type": "code",
   "execution_count": 102,
   "metadata": {},
   "outputs": [
    {
     "data": {
      "text/plain": [
       "Index(['pc', 'pcc', 'ba', 'htn', 'dm', 'cad', 'appet', 'pe', 'ane', 'class'], dtype='object')"
      ]
     },
     "execution_count": 102,
     "metadata": {},
     "output_type": "execute_result"
    }
   ],
   "source": [
    "cat_df.columns"
   ]
  },
  {
   "cell_type": "code",
   "execution_count": 108,
   "metadata": {},
   "outputs": [
    {
     "data": {
      "text/html": [
       "<div>\n",
       "<style scoped>\n",
       "    .dataframe tbody tr th:only-of-type {\n",
       "        vertical-align: middle;\n",
       "    }\n",
       "\n",
       "    .dataframe tbody tr th {\n",
       "        vertical-align: top;\n",
       "    }\n",
       "\n",
       "    .dataframe thead tr th {\n",
       "        text-align: left;\n",
       "    }\n",
       "\n",
       "    .dataframe thead tr:last-of-type th {\n",
       "        text-align: right;\n",
       "    }\n",
       "</style>\n",
       "<table border=\"1\" class=\"dataframe\">\n",
       "  <thead>\n",
       "    <tr>\n",
       "      <th></th>\n",
       "      <th colspan=\"8\" halign=\"left\">bp</th>\n",
       "    </tr>\n",
       "    <tr>\n",
       "      <th></th>\n",
       "      <th>count</th>\n",
       "      <th>mean</th>\n",
       "      <th>std</th>\n",
       "      <th>min</th>\n",
       "      <th>25%</th>\n",
       "      <th>50%</th>\n",
       "      <th>75%</th>\n",
       "      <th>max</th>\n",
       "    </tr>\n",
       "    <tr>\n",
       "      <th>class</th>\n",
       "      <th></th>\n",
       "      <th></th>\n",
       "      <th></th>\n",
       "      <th></th>\n",
       "      <th></th>\n",
       "      <th></th>\n",
       "      <th></th>\n",
       "      <th></th>\n",
       "    </tr>\n",
       "  </thead>\n",
       "  <tbody>\n",
       "    <tr>\n",
       "      <th>0</th>\n",
       "      <td>115.0</td>\n",
       "      <td>71.826087</td>\n",
       "      <td>8.744182</td>\n",
       "      <td>60.0</td>\n",
       "      <td>60.0</td>\n",
       "      <td>70.0</td>\n",
       "      <td>80.0</td>\n",
       "      <td>80.0</td>\n",
       "    </tr>\n",
       "    <tr>\n",
       "      <th>1</th>\n",
       "      <td>74.0</td>\n",
       "      <td>80.135135</td>\n",
       "      <td>13.395281</td>\n",
       "      <td>50.0</td>\n",
       "      <td>70.0</td>\n",
       "      <td>80.0</td>\n",
       "      <td>90.0</td>\n",
       "      <td>110.0</td>\n",
       "    </tr>\n",
       "  </tbody>\n",
       "</table>\n",
       "</div>"
      ],
      "text/plain": [
       "          bp                                                     \n",
       "       count       mean        std   min   25%   50%   75%    max\n",
       "class                                                            \n",
       "0      115.0  71.826087   8.744182  60.0  60.0  70.0  80.0   80.0\n",
       "1       74.0  80.135135  13.395281  50.0  70.0  80.0  90.0  110.0"
      ]
     },
     "execution_count": 108,
     "metadata": {},
     "output_type": "execute_result"
    }
   ],
   "source": [
    "df[['bp','class']].groupby(['class']).describe()"
   ]
  },
  {
   "cell_type": "code",
   "execution_count": 109,
   "metadata": {},
   "outputs": [
    {
     "data": {
      "image/png": "[encoded data removed]",
      "text/plain": [
       "<Figure size 432x288 with 1 Axes>"
      ]
     },
     "metadata": {
      "needs_background": "light"
     },
     "output_type": "display_data"
    }
   ],
   "source": [
    "ax = S.boxplot(x='class', y='bp', data=df)"
   ]
  },
  {
   "cell_type": "code",
   "execution_count": 138,
   "metadata": {},
   "outputs": [
    {
     "data": {
      "text/plain": [
       "normal      39\n",
       "abnormal    35\n",
       "Name: pc, dtype: int64"
      ]
     },
     "execution_count": 138,
     "metadata": {},
     "output_type": "execute_result"
    }
   ],
   "source": [
    "df['pc'].loc[df['class']==1].value_counts()"
   ]
  },
  {
   "cell_type": "code",
   "execution_count": 139,
   "metadata": {},
   "outputs": [
    {
     "data": {
      "text/plain": [
       "normal    115\n",
       "Name: pc, dtype: int64"
      ]
     },
     "execution_count": 139,
     "metadata": {},
     "output_type": "execute_result"
    }
   ],
   "source": [
    "df['pc'].loc[df['class']==0].value_counts()"
   ]
  },
  {
   "cell_type": "code",
   "execution_count": 25,
   "metadata": {},
   "outputs": [],
   "source": [
    "df = P.read_csv(\"./data/kidney.csv\")"
   ]
  },
  {
   "cell_type": "code",
   "execution_count": 26,
   "metadata": {},
   "outputs": [],
   "source": [
    "X_, y_ = df.iloc[:,:-1],df.iloc[:,-1]\n"
   ]
  },
  {
   "cell_type": "code",
   "execution_count": 27,
   "metadata": {},
   "outputs": [],
   "source": [
    "def class2num(diag):\n",
    "    if diag == 'ckd':\n",
    "        num = 1\n",
    "    elif diag == 'notckd':\n",
    "        num = 0\n",
    "    return num"
   ]
  },
  {
   "cell_type": "code",
   "execution_count": 28,
   "metadata": {},
   "outputs": [],
   "source": [
    "y_ = y_.apply(class2num)"
   ]
  },
  {
   "cell_type": "code",
   "execution_count": null,
   "metadata": {},
   "outputs": [],
   "source": []
  }
 ],
 "metadata": {
  "kernelspec": {
   "display_name": "Python 3",
   "language": "python",
   "name": "python3"
  },
  "language_info": {
   "codemirror_mode": {
    "name": "ipython",
    "version": 3
   },
   "file_extension": ".py",
   "mimetype": "text/x-python",
   "name": "python",
   "nbconvert_exporter": "python",
   "pygments_lexer": "ipython3",
   "version": "3.7.4"
  }
 },
 "nbformat": 4,
 "nbformat_minor": 2
}
